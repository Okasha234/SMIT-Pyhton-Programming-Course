{
 "cells": [
  {
   "cell_type": "code",
   "execution_count": 6,
   "metadata": {},
   "outputs": [
    {
     "name": "stdout",
     "output_type": "stream",
     "text": [
      "Enter a string:okasha\n",
      "The given string is not palindrome\n"
     ]
    }
   ],
   "source": [
    "strn = input(\"Enter a string:\")\n",
    "\n",
    "def palin_str(strn):\n",
    "    rev = strn[::-1]\n",
    "    if rev == strn :\n",
    "        print(\"The given String is palindrome\")\n",
    "    else :\n",
    "        print(\"The given string is not palindrome\")\n",
    "\n",
    "palin_str(strn)        "
   ]
  },
  {
   "cell_type": "code",
   "execution_count": null,
   "metadata": {},
   "outputs": [],
   "source": []
  },
  {
   "cell_type": "code",
   "execution_count": null,
   "metadata": {},
   "outputs": [],
   "source": []
  }
 ],
 "metadata": {
  "kernelspec": {
   "display_name": "Python 3",
   "language": "python",
   "name": "python3"
  },
  "language_info": {
   "codemirror_mode": {
    "name": "ipython",
    "version": 3
   },
   "file_extension": ".py",
   "mimetype": "text/x-python",
   "name": "python",
   "nbconvert_exporter": "python",
   "pygments_lexer": "ipython3",
   "version": "3.7.4"
  }
 },
 "nbformat": 4,
 "nbformat_minor": 2
}
