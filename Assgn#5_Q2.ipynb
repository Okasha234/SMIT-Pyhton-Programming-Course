{
 "cells": [
  {
   "cell_type": "code",
   "execution_count": 1,
   "metadata": {},
   "outputs": [
    {
     "name": "stdout",
     "output_type": "stream",
     "text": [
      "Enter a string:OkAshA\n",
      "No. of upper case letter: 3\n",
      "No. of lower case letter: 3\n"
     ]
    }
   ],
   "source": [
    "strn = input(\"Enter a string:\")\n",
    "def str_cal(strn):\n",
    "    uc = 0\n",
    "    lc = 0\n",
    "    for i in strn :\n",
    "        if i.isupper() :\n",
    "            uc+=1\n",
    "        elif i.islower() :\n",
    "            lc+=1\n",
    "            \n",
    "    print(\"No. of upper case letter:\", uc)\n",
    "    print(\"No. of lower case letter:\", lc)\n",
    "    \n",
    "str_cal(strn)"
   ]
  },
  {
   "cell_type": "code",
   "execution_count": null,
   "metadata": {},
   "outputs": [],
   "source": []
  }
 ],
 "metadata": {
  "kernelspec": {
   "display_name": "Python 3",
   "language": "python",
   "name": "python3"
  },
  "language_info": {
   "codemirror_mode": {
    "name": "ipython",
    "version": 3
   },
   "file_extension": ".py",
   "mimetype": "text/x-python",
   "name": "python",
   "nbconvert_exporter": "python",
   "pygments_lexer": "ipython3",
   "version": "3.7.4"
  }
 },
 "nbformat": 4,
 "nbformat_minor": 2
}
